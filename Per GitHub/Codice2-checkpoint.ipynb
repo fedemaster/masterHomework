{
 "cells": [
  {
   "cell_type": "markdown",
   "metadata": {},
   "source": [
    "# TripAdvisor Scraping"
   ]
  },
  {
   "cell_type": "markdown",
   "metadata": {},
   "source": [
    "Import of libraries:"
   ]
  },
  {
   "cell_type": "code",
   "execution_count": 1,
   "metadata": {},
   "outputs": [],
   "source": [
    "import requests\n",
    "import bs4\n",
    "import csv\n",
    "from tqdm import tqdm_notebook as tqdm\n",
    "import json\n",
    "import re\n",
    "import pprint\n",
    "import pandas as pd\n",
    "import time\n",
    "from selenium import webdriver\n",
    "from selenium.common.exceptions import NoSuchElementException, WebDriverException\n",
    "import random\n",
    "from datetime import date\n",
    "from geopy.geocoders import Nominatim\n",
    "import pymongo"
   ]
  },
  {
   "cell_type": "markdown",
   "metadata": {},
   "source": [
    "Export and Import of data with csv format:"
   ]
  },
  {
   "cell_type": "code",
   "execution_count": 2,
   "metadata": {},
   "outputs": [],
   "source": [
    "def PandasToCsv(folder, pandasObject, name):\n",
    "        pandasObject.to_csv(folder+'/TripAdvisorOutput_'+str(name)+'_'+str(date.today())+'.csv',mode='a',sep=';' , header=True)"
   ]
  },
  {
   "cell_type": "code",
   "execution_count": 3,
   "metadata": {},
   "outputs": [],
   "source": [
    "def csvToPandas(folder, filename):\n",
    "    return pd.read_csv(folder+'/'+filename+'.csv',sep=';', encoding='mac-roman')"
   ]
  },
  {
   "cell_type": "markdown",
   "metadata": {},
   "source": [
    "Print html:"
   ]
  },
  {
   "cell_type": "code",
   "execution_count": 4,
   "metadata": {},
   "outputs": [],
   "source": [
    "def print_html(obj):\n",
    "    if obj is None:\n",
    "        print (\"--- Oggetto vuoto ---\")\n",
    "    else:\n",
    "        print(\"--- Oggetto Popolato ---\\n\")\n",
    "        print(\"{0}\".format(obj))"
   ]
  },
  {
   "cell_type": "markdown",
   "metadata": {},
   "source": [
    "Set the Selenium driver:"
   ]
  },
  {
   "cell_type": "code",
   "execution_count": 5,
   "metadata": {},
   "outputs": [],
   "source": [
    "def initDriver(executable_path):\n",
    "    try:\n",
    "        return webdriver.Chrome(executable_path) \n",
    "   # driver = webdriver.Chrome(executable_path='C:\\Users\\privi\\Downloads')\n",
    "    except Exception as e:\n",
    "        print(\"Eccezione : {0}\".format(e))"
   ]
  },
  {
   "cell_type": "markdown",
   "metadata": {},
   "source": [
    "Get the url by Selenium driver:"
   ]
  },
  {
   "cell_type": "code",
   "execution_count": 6,
   "metadata": {},
   "outputs": [],
   "source": [
    "def getDriver(url):\n",
    "    return driver.get(url)"
   ]
  },
  {
   "cell_type": "markdown",
   "metadata": {},
   "source": [
    "#### Main code of scraping:"
   ]
  },
  {
   "cell_type": "code",
   "execution_count": 7,
   "metadata": {},
   "outputs": [
    {
     "ename": "SyntaxError",
     "evalue": "invalid syntax (<ipython-input-7-cd59df9767cf>, line 1)",
     "output_type": "error",
     "traceback": [
      "\u001b[1;36m  File \u001b[1;32m\"<ipython-input-7-cd59df9767cf>\"\u001b[1;36m, line \u001b[1;32m1\u001b[0m\n\u001b[1;33m    q.social-sections-ReviewSection__quote--3gE7d\u001b[0m\n\u001b[1;37m                                                ^\u001b[0m\n\u001b[1;31mSyntaxError\u001b[0m\u001b[1;31m:\u001b[0m invalid syntax\n"
     ]
    }
   ],
   "source": [
    "q.social-sections-ReviewSection__quote--3gE7d\n",
    "\n",
    "span.fullText \n",
    "\n",
    "div.social-sections-ReviewSection__review--3qryC span.bubble_50\n",
    "\n",
    "span.social-show-more-ShowMore__button_text--uxMCG"
   ]
  },
  {
   "cell_type": "code",
   "execution_count": 9,
   "metadata": {},
   "outputs": [
    {
     "ename": "SyntaxError",
     "evalue": "invalid syntax (<ipython-input-9-a9e609c54a40>, line 1)",
     "output_type": "error",
     "traceback": [
      "\u001b[1;36m  File \u001b[1;32m\"<ipython-input-9-a9e609c54a40>\"\u001b[1;36m, line \u001b[1;32m1\u001b[0m\n\u001b[1;33m    div > div.ui_column.is-10-desktop.is-12-tablet.is-12-mobile > div.altHeadInline > a\u001b[0m\n\u001b[1;37m                         ^\u001b[0m\n\u001b[1;31mSyntaxError\u001b[0m\u001b[1;31m:\u001b[0m invalid syntax\n"
     ]
    }
   ],
   "source": [
    "div > div.ui_column.is-10-desktop.is-12-tablet.is-12-mobile > div.altHeadInline > a"
   ]
  },
  {
   "cell_type": "code",
   "execution_count": 36,
   "metadata": {},
   "outputs": [
    {
     "ename": "NoSuchElementException",
     "evalue": "Message: no such element: Unable to locate element: {\"method\":\"css selector\",\"selector\":\"#taplc_trip_planner_breadcrumbs_0 > ul > li:nth-child(7) > a > span\"}\n  (Session info: chrome=75.0.3770.100)\n",
     "output_type": "error",
     "traceback": [
      "\u001b[1;31m---------------------------------------------------------------------------\u001b[0m",
      "\u001b[1;31mNoSuchElementException\u001b[0m                    Traceback (most recent call last)",
      "\u001b[1;32m<ipython-input-36-79025c4c69a9>\u001b[0m in \u001b[0;36m<module>\u001b[1;34m\u001b[0m\n\u001b[0;32m      5\u001b[0m \u001b[0mgetDriver\u001b[0m\u001b[1;33m(\u001b[0m\u001b[0mstr\u001b[0m\u001b[1;33m(\u001b[0m\u001b[0mutente\u001b[0m\u001b[1;33m)\u001b[0m\u001b[1;33m)\u001b[0m\u001b[1;33m\u001b[0m\u001b[1;33m\u001b[0m\u001b[0m\n\u001b[0;32m      6\u001b[0m \u001b[0mdriver\u001b[0m\u001b[1;33m.\u001b[0m\u001b[0mmaximize_window\u001b[0m\u001b[1;33m(\u001b[0m\u001b[1;33m)\u001b[0m\u001b[1;33m\u001b[0m\u001b[1;33m\u001b[0m\u001b[0m\n\u001b[1;32m----> 7\u001b[1;33m \u001b[0mmore_info\u001b[0m\u001b[1;33m=\u001b[0m\u001b[0mdriver\u001b[0m\u001b[1;33m.\u001b[0m\u001b[0mfind_element_by_css_selector\u001b[0m\u001b[1;33m(\u001b[0m\u001b[1;34m\"#taplc_trip_planner_breadcrumbs_0 > ul > li:nth-child(7) > a > span\"\u001b[0m\u001b[1;33m)\u001b[0m\u001b[1;33m\u001b[0m\u001b[1;33m\u001b[0m\u001b[0m\n\u001b[0m\u001b[0;32m      8\u001b[0m \u001b[1;31m#nome_hotel=doc2.select(\"div > div.ui_column.is-10-desktop.is-12-tablet.is-12-mobile > div.altHeadInline > a\")\u001b[0m\u001b[1;33m\u001b[0m\u001b[1;33m\u001b[0m\u001b[1;33m\u001b[0m\u001b[0m\n\u001b[0;32m      9\u001b[0m \u001b[0mmore_info\u001b[0m\u001b[1;33m.\u001b[0m\u001b[0mclick\u001b[0m\u001b[1;33m(\u001b[0m\u001b[1;33m)\u001b[0m\u001b[1;33m\u001b[0m\u001b[1;33m\u001b[0m\u001b[0m\n",
      "\u001b[1;32m~\\AppData\\Roaming\\Python\\Python37\\site-packages\\selenium\\webdriver\\remote\\webdriver.py\u001b[0m in \u001b[0;36mfind_element_by_css_selector\u001b[1;34m(self, css_selector)\u001b[0m\n\u001b[0;32m    596\u001b[0m             \u001b[0melement\u001b[0m \u001b[1;33m=\u001b[0m \u001b[0mdriver\u001b[0m\u001b[1;33m.\u001b[0m\u001b[0mfind_element_by_css_selector\u001b[0m\u001b[1;33m(\u001b[0m\u001b[1;34m'#foo'\u001b[0m\u001b[1;33m)\u001b[0m\u001b[1;33m\u001b[0m\u001b[1;33m\u001b[0m\u001b[0m\n\u001b[0;32m    597\u001b[0m         \"\"\"\n\u001b[1;32m--> 598\u001b[1;33m         \u001b[1;32mreturn\u001b[0m \u001b[0mself\u001b[0m\u001b[1;33m.\u001b[0m\u001b[0mfind_element\u001b[0m\u001b[1;33m(\u001b[0m\u001b[0mby\u001b[0m\u001b[1;33m=\u001b[0m\u001b[0mBy\u001b[0m\u001b[1;33m.\u001b[0m\u001b[0mCSS_SELECTOR\u001b[0m\u001b[1;33m,\u001b[0m \u001b[0mvalue\u001b[0m\u001b[1;33m=\u001b[0m\u001b[0mcss_selector\u001b[0m\u001b[1;33m)\u001b[0m\u001b[1;33m\u001b[0m\u001b[1;33m\u001b[0m\u001b[0m\n\u001b[0m\u001b[0;32m    599\u001b[0m \u001b[1;33m\u001b[0m\u001b[0m\n\u001b[0;32m    600\u001b[0m     \u001b[1;32mdef\u001b[0m \u001b[0mfind_elements_by_css_selector\u001b[0m\u001b[1;33m(\u001b[0m\u001b[0mself\u001b[0m\u001b[1;33m,\u001b[0m \u001b[0mcss_selector\u001b[0m\u001b[1;33m)\u001b[0m\u001b[1;33m:\u001b[0m\u001b[1;33m\u001b[0m\u001b[1;33m\u001b[0m\u001b[0m\n",
      "\u001b[1;32m~\\AppData\\Roaming\\Python\\Python37\\site-packages\\selenium\\webdriver\\remote\\webdriver.py\u001b[0m in \u001b[0;36mfind_element\u001b[1;34m(self, by, value)\u001b[0m\n\u001b[0;32m    976\u001b[0m         return self.execute(Command.FIND_ELEMENT, {\n\u001b[0;32m    977\u001b[0m             \u001b[1;34m'using'\u001b[0m\u001b[1;33m:\u001b[0m \u001b[0mby\u001b[0m\u001b[1;33m,\u001b[0m\u001b[1;33m\u001b[0m\u001b[1;33m\u001b[0m\u001b[0m\n\u001b[1;32m--> 978\u001b[1;33m             'value': value})['value']\n\u001b[0m\u001b[0;32m    979\u001b[0m \u001b[1;33m\u001b[0m\u001b[0m\n\u001b[0;32m    980\u001b[0m     \u001b[1;32mdef\u001b[0m \u001b[0mfind_elements\u001b[0m\u001b[1;33m(\u001b[0m\u001b[0mself\u001b[0m\u001b[1;33m,\u001b[0m \u001b[0mby\u001b[0m\u001b[1;33m=\u001b[0m\u001b[0mBy\u001b[0m\u001b[1;33m.\u001b[0m\u001b[0mID\u001b[0m\u001b[1;33m,\u001b[0m \u001b[0mvalue\u001b[0m\u001b[1;33m=\u001b[0m\u001b[1;32mNone\u001b[0m\u001b[1;33m)\u001b[0m\u001b[1;33m:\u001b[0m\u001b[1;33m\u001b[0m\u001b[1;33m\u001b[0m\u001b[0m\n",
      "\u001b[1;32m~\\AppData\\Roaming\\Python\\Python37\\site-packages\\selenium\\webdriver\\remote\\webdriver.py\u001b[0m in \u001b[0;36mexecute\u001b[1;34m(self, driver_command, params)\u001b[0m\n\u001b[0;32m    319\u001b[0m         \u001b[0mresponse\u001b[0m \u001b[1;33m=\u001b[0m \u001b[0mself\u001b[0m\u001b[1;33m.\u001b[0m\u001b[0mcommand_executor\u001b[0m\u001b[1;33m.\u001b[0m\u001b[0mexecute\u001b[0m\u001b[1;33m(\u001b[0m\u001b[0mdriver_command\u001b[0m\u001b[1;33m,\u001b[0m \u001b[0mparams\u001b[0m\u001b[1;33m)\u001b[0m\u001b[1;33m\u001b[0m\u001b[1;33m\u001b[0m\u001b[0m\n\u001b[0;32m    320\u001b[0m         \u001b[1;32mif\u001b[0m \u001b[0mresponse\u001b[0m\u001b[1;33m:\u001b[0m\u001b[1;33m\u001b[0m\u001b[1;33m\u001b[0m\u001b[0m\n\u001b[1;32m--> 321\u001b[1;33m             \u001b[0mself\u001b[0m\u001b[1;33m.\u001b[0m\u001b[0merror_handler\u001b[0m\u001b[1;33m.\u001b[0m\u001b[0mcheck_response\u001b[0m\u001b[1;33m(\u001b[0m\u001b[0mresponse\u001b[0m\u001b[1;33m)\u001b[0m\u001b[1;33m\u001b[0m\u001b[1;33m\u001b[0m\u001b[0m\n\u001b[0m\u001b[0;32m    322\u001b[0m             response['value'] = self._unwrap_value(\n\u001b[0;32m    323\u001b[0m                 response.get('value', None))\n",
      "\u001b[1;32m~\\AppData\\Roaming\\Python\\Python37\\site-packages\\selenium\\webdriver\\remote\\errorhandler.py\u001b[0m in \u001b[0;36mcheck_response\u001b[1;34m(self, response)\u001b[0m\n\u001b[0;32m    240\u001b[0m                 \u001b[0malert_text\u001b[0m \u001b[1;33m=\u001b[0m \u001b[0mvalue\u001b[0m\u001b[1;33m[\u001b[0m\u001b[1;34m'alert'\u001b[0m\u001b[1;33m]\u001b[0m\u001b[1;33m.\u001b[0m\u001b[0mget\u001b[0m\u001b[1;33m(\u001b[0m\u001b[1;34m'text'\u001b[0m\u001b[1;33m)\u001b[0m\u001b[1;33m\u001b[0m\u001b[1;33m\u001b[0m\u001b[0m\n\u001b[0;32m    241\u001b[0m             \u001b[1;32mraise\u001b[0m \u001b[0mexception_class\u001b[0m\u001b[1;33m(\u001b[0m\u001b[0mmessage\u001b[0m\u001b[1;33m,\u001b[0m \u001b[0mscreen\u001b[0m\u001b[1;33m,\u001b[0m \u001b[0mstacktrace\u001b[0m\u001b[1;33m,\u001b[0m \u001b[0malert_text\u001b[0m\u001b[1;33m)\u001b[0m\u001b[1;33m\u001b[0m\u001b[1;33m\u001b[0m\u001b[0m\n\u001b[1;32m--> 242\u001b[1;33m         \u001b[1;32mraise\u001b[0m \u001b[0mexception_class\u001b[0m\u001b[1;33m(\u001b[0m\u001b[0mmessage\u001b[0m\u001b[1;33m,\u001b[0m \u001b[0mscreen\u001b[0m\u001b[1;33m,\u001b[0m \u001b[0mstacktrace\u001b[0m\u001b[1;33m)\u001b[0m\u001b[1;33m\u001b[0m\u001b[1;33m\u001b[0m\u001b[0m\n\u001b[0m\u001b[0;32m    243\u001b[0m \u001b[1;33m\u001b[0m\u001b[0m\n\u001b[0;32m    244\u001b[0m     \u001b[1;32mdef\u001b[0m \u001b[0m_value_or_default\u001b[0m\u001b[1;33m(\u001b[0m\u001b[0mself\u001b[0m\u001b[1;33m,\u001b[0m \u001b[0mobj\u001b[0m\u001b[1;33m,\u001b[0m \u001b[0mkey\u001b[0m\u001b[1;33m,\u001b[0m \u001b[0mdefault\u001b[0m\u001b[1;33m)\u001b[0m\u001b[1;33m:\u001b[0m\u001b[1;33m\u001b[0m\u001b[1;33m\u001b[0m\u001b[0m\n",
      "\u001b[1;31mNoSuchElementException\u001b[0m: Message: no such element: Unable to locate element: {\"method\":\"css selector\",\"selector\":\"#taplc_trip_planner_breadcrumbs_0 > ul > li:nth-child(7) > a > span\"}\n  (Session info: chrome=75.0.3770.100)\n"
     ]
    }
   ],
   "source": [
    "utente='https://www.tripadvisor.it/ShowUserReviews-g312608-d2249445-r613837897-AHA_Gateway_Hotel-Umhlanga_Rocks_KwaZulu_Natal.html'\n",
    "\n",
    "driver = initDriver('C:/Users/privi/Downloads/chromedriver')\n",
    "\n",
    "getDriver(str(utente))\n",
    "driver.maximize_window()\n",
    "more_info=driver.find_element_by_css_selector(\"#taplc_trip_planner_breadcrumbs_0 > ul > li:nth-child(7) > a > span\")\n",
    "#nome_hotel=doc2.select(\"div > div.ui_column.is-10-desktop.is-12-tablet.is-12-mobile > div.altHeadInline > a\")\n",
    "more_info.click()\n",
    "#taplc_resp_hr_atf_hotel_info_0 > div > div.ui_column.is-12-tablet.is-2-mobile.hotelActionsColumn > div > div.prw_rup.prw_common_atf_header_bl_responsive.headerBL > div > div\n",
    "doc3 = bs4.BeautifulSoup(driver.page_source, 'html.parser')   \n",
    "indirizzo=doc3.find_all('div', class_='public-business-listing-ContactInfo__location--1jP2j')\n",
    "indirizzo_hotel=indirizzo[0].text"
   ]
  },
  {
   "cell_type": "code",
   "execution_count": 30,
   "metadata": {},
   "outputs": [
    {
     "data": {
      "text/plain": [
       "'Corner Centenary Boulevard & Twilight Drive Gateway, Umhlanga Rocks 4321 Sudafrica'"
      ]
     },
     "execution_count": 30,
     "metadata": {},
     "output_type": "execute_result"
    }
   ],
   "source": [
    "indirizzo_hotel"
   ]
  },
  {
   "cell_type": "code",
   "execution_count": 17,
   "metadata": {},
   "outputs": [
    {
     "data": {
      "text/plain": [
       "<selenium.webdriver.remote.webelement.WebElement (session=\"d7d0f101458e492f9023045bd211e067\", element=\"5c367088-ce30-43bc-9189-6fbdb7565285\")>"
      ]
     },
     "execution_count": 17,
     "metadata": {},
     "output_type": "execute_result"
    }
   ],
   "source": [
    "more_info"
   ]
  },
  {
   "cell_type": "markdown",
   "metadata": {},
   "source": [
    "### Scrape per lista utente:"
   ]
  },
  {
   "cell_type": "code",
   "execution_count": 54,
   "metadata": {
    "scrolled": true
   },
   "outputs": [],
   "source": [
    "#url_list =csvToPandas('C:/Users/privi/OneDrive/Desktop/TripAdvisor', 'utenti') #carica csv con i link degli utenti\n",
    "#crea dataframe per la raccolta dei commenti\n",
    "col_names =  ['utente', 'commento', 'hotel','dataIns', 'rating'] \n",
    "df_review_list  = pd.DataFrame(columns = col_names)\n",
    "\n",
    "#crea dataframe per la raccolta degli hotel\n",
    "col_names =  ['hotel', 'indirizzo', 'rating','dataIns'] \n",
    "df_hotel_list  = pd.DataFrame(columns = col_names) \n",
    "\n",
    "data_scraping=date.today()\n",
    "driver = initDriver('C:/Users/privi/Downloads/chromedriver')\n",
    "\n",
    "utente='https://www.tripadvisor.it/Profile/ferdisvago?tab=reviews&fid=c409ebef-9cd3-4903-bfd0-855c8bbf8077'\n",
    "\n",
    "#for utente in utente_list[0]:\n",
    "getDriver(str(utente))\n",
    "driver.maximize_window()\n",
    "\n",
    "try:\n",
    "    more_info=driver.find_element_by_css_selector(\"#content > div.social-show-more-ShowMore__show_more--1oZl9 > button > div > span.ui_icon.single-chevron-down.social-show-more-ShowMore__button_icon--18ava\")  \n",
    "    location = more_info.location[\"y\"] - 100\n",
    "    driver.execute_script(\"window.scrollTo(0, %d);\" %location)\n",
    "    more_info.click()\n",
    "    time.sleep(3)\n",
    "except:\n",
    "      pass   \n",
    "doc = bs4.BeautifulSoup(driver.page_source, 'html.parser')   \n",
    "getDriver(str(utente))\n",
    "num_comm=len(doc.select(\"div.social-sections-CardSection__background--10gg3>div:nth-child(1)>div>a>div>div.social-sections-ReviewSection__body_text--3w6JO>q\"))\n",
    "for num in range(1,num_comm):  \n",
    "    try:\n",
    "        comm=driver.find_element_by_css_selector(f\"#content > div > div:nth-child({num}) > div > div > div.social-sections-CardSection__background--10gg3 > div:nth-child(1) > div > a > div > div.social-sections-ReviewSection__title--35ISZ.social-sections-ReviewSection__linked--2rTun\")\n",
    "    except:\n",
    "        comm=driver.find_element_by_css_selector(f\"#content > div > div:nth-child({num}) > div > div > div.social-sections-CardSection__background--10gg3 > div:nth-child(2) > div > a > div > div.social-sections-ReviewSection__title--35ISZ.social-sections-ReviewSection__linked--2rTun\")    \n",
    "    location = comm.location[\"y\"] - 100\n",
    "    driver.execute_script(\"window.scrollTo(0, %d);\" %location)\n",
    "    comm.click()\n",
    "    doc2 = bs4.BeautifulSoup(driver.page_source, 'html.parser')   \n",
    "    nome_hotel=doc2.select(\"div > div.ui_column.is-10-desktop.is-12-tablet.is-12-mobile > div.altHeadInline > a\")\n",
    "    nome_utente=doc.select('#component_1 > div > div.ui_container.social-profile-ProfileHeaderBlock__edge2edge--1Imi4.social-profile-ProfileHeaderBlock__offsetTop--3kHG9 > div > div.social-sections-profile-ProfileSection__member_buttons_wrap--3Uel9 > div.social-sections-profile-ProfileSection__member_block_wrap--27Cl7 > div > span.social-member-common-MemberName__container--Xctoo.social-member-common-MemberName__responsive--3IK75 > span.social-member-common-MemberName__display_name_container--3-kmb > h1 > span')\n",
    "    if nome_hotel:  #verifichiamo che il commento riguardi un hotel\n",
    "        df_hotel_list.loc[len(df_hotel_list.index), 'hotel']=nome_hotel[0].text #aggiungi data scraping al dataframe   \n",
    "        df_review_list.loc[len(df_review_list.index), 'commento']=(doc2.select(\"p.partial_entry\")[0]).text #aggiungi il commento al dataframe\n",
    "        df_review_list.loc[len(df_review_list.index)-1, 'dataIns']=data_scraping #aggiungi data scraping al dataframe \n",
    "        df_review_list.loc[len(df_review_list.index)-1, 'utente']=nome_utente[0].text #aggiungi utente al dataframe\n",
    "        df_review_list.loc[len(df_review_list.index)-1, 'hotel']=nome_hotel[0].text #aggiungi utente al dataframe\n",
    "        getDriver(driver.current_url)\n",
    "        try:\n",
    "            click_hotel=driver.find_element_by_css_selector(\"#taplc_trip_planner_breadcrumbs_0 > ul > li:nth-child(7) > a > span\")\n",
    "            click_hotel.click()\n",
    "        except:\n",
    "            click_hotel=driver.find_element_by_css_selector(\"#taplc_trip_planner_breadcrumbs_0 > ul > li:nth-child(6) > a > span\")\n",
    "            click_hotel.click()            \n",
    "        doc3 = bs4.BeautifulSoup(driver.page_source, 'html.parser')   \n",
    "        indirizzo=doc3.find_all('div', class_='public-business-listing-ContactInfo__location--1jP2j')\n",
    "        try:\n",
    "            indirizzo_hotel=indirizzo[0].text \n",
    "        except:\n",
    "            pass\n",
    "        df_hotel_list.loc[len(df_review_list.index)-1, 'indirizzo']=indirizzo_hotel\n",
    "    else:\n",
    "        pass\n",
    "    getDriver(str(utente))\n",
    "    try:\n",
    "        more_info=driver.find_element_by_css_selector(\"#content > div.social-show-more-ShowMore__show_more--1oZl9 > button > div > span.ui_icon.single-chevron-down.social-show-more-ShowMore__button_icon--18ava\")  \n",
    "        location = more_info.location[\"y\"] - 100\n",
    "        driver.execute_script(\"window.scrollTo(0, %d);\" %location)\n",
    "        more_info.click()\n",
    "        time.sleep(3)\n",
    "    except:\n",
    "        pass  "
   ]
  },
  {
   "cell_type": "code",
   "execution_count": 62,
   "metadata": {},
   "outputs": [],
   "source": [
    "#esporta il datframe in formato csv\n",
    "PandasToCsv('C:/Users/privi/OneDrive/Desktop/TripAdvisor', df_review_list, 'review')\n",
    "#PandasToCsv('C:/Users/privi/OneDrive/Desktop/TripAdvisor', df_hotel_list, 'hotel')"
   ]
  },
  {
   "cell_type": "code",
   "execution_count": 56,
   "metadata": {},
   "outputs": [
    {
     "data": {
      "text/html": [
       "<div>\n",
       "<style scoped>\n",
       "    .dataframe tbody tr th:only-of-type {\n",
       "        vertical-align: middle;\n",
       "    }\n",
       "\n",
       "    .dataframe tbody tr th {\n",
       "        vertical-align: top;\n",
       "    }\n",
       "\n",
       "    .dataframe thead th {\n",
       "        text-align: right;\n",
       "    }\n",
       "</style>\n",
       "<table border=\"1\" class=\"dataframe\">\n",
       "  <thead>\n",
       "    <tr style=\"text-align: right;\">\n",
       "      <th></th>\n",
       "      <th>utente</th>\n",
       "      <th>commento</th>\n",
       "      <th>hotel</th>\n",
       "      <th>dataIns</th>\n",
       "      <th>rating</th>\n",
       "    </tr>\n",
       "  </thead>\n",
       "  <tbody>\n",
       "    <tr>\n",
       "      <th>0</th>\n",
       "      <td>ferdisvago</td>\n",
       "      <td>Palazzo d' epoca ma ben tenuto, camera in ordi...</td>\n",
       "      <td>Best Western Hotel Astrid</td>\n",
       "      <td>2019-07-13</td>\n",
       "      <td>NaN</td>\n",
       "    </tr>\n",
       "    <tr>\n",
       "      <th>1</th>\n",
       "      <td>ferdisvago</td>\n",
       "      <td>Struttura recente poco fuori il centro abitato...</td>\n",
       "      <td>Hotel La Terrazza</td>\n",
       "      <td>2019-07-13</td>\n",
       "      <td>NaN</td>\n",
       "    </tr>\n",
       "  </tbody>\n",
       "</table>\n",
       "</div>"
      ],
      "text/plain": [
       "       utente                                           commento  \\\n",
       "0  ferdisvago  Palazzo d' epoca ma ben tenuto, camera in ordi...   \n",
       "1  ferdisvago  Struttura recente poco fuori il centro abitato...   \n",
       "\n",
       "                       hotel     dataIns rating  \n",
       "0  Best Western Hotel Astrid  2019-07-13    NaN  \n",
       "1          Hotel La Terrazza  2019-07-13    NaN  "
      ]
     },
     "execution_count": 56,
     "metadata": {},
     "output_type": "execute_result"
    }
   ],
   "source": [
    "df_review_list"
   ]
  },
  {
   "cell_type": "markdown",
   "metadata": {},
   "source": [
    "### scrape per lista hotel:"
   ]
  },
  {
   "cell_type": "code",
   "execution_count": null,
   "metadata": {
    "scrolled": false
   },
   "outputs": [],
   "source": [
    "url_list =csvToPandas('C:/Users/privi/OneDrive/Desktop/TripAdvisor', 'hotel_list3') #carica csv con i link degli hotel\n",
    "#crea dataframe per la raccolta dei commenti\n",
    "col_names =  ['utente', 'commento', 'hotel','dataIns', 'rating'] \n",
    "df_review_list  = pd.DataFrame(columns = col_names) \n",
    "\n",
    "#crea dataframe per la raccolta degli hotel\n",
    "col_names =  ['hotel', 'indirizzo', 'rating','dataIns'] \n",
    "df_hotel_list  = pd.DataFrame(columns = col_names) \n",
    "\n",
    "data_scraping=date.today()\n",
    "driver = initDriver('C:/Users/privi/Downloads/chromedriver')\n",
    "\n",
    "for hotel in url_list[0]:\n",
    "    for num in range (0,20,5):\n",
    "        getDriver(str(hotel).split(\"Reviews-\")[0]+'Reviews-or'+f'{num}-'+str(hotel).split(\"Reviews-\")[1])\n",
    "        driver.maximize_window()\n",
    "        doc = bs4.BeautifulSoup(driver.page_source, 'html.parser')\n",
    "        i=0\n",
    "        #trovo la componente che contiene il tasto \"scopri di più\"\n",
    "        for i in range(20,35):\n",
    "            try:\n",
    "                x=len(doc.find(id=(f\"component_{i}\")).find_all('span', class_=\"hotels-review-list-parts-ExpandableReview__cta--3U9OU\"))\n",
    "                if x >4:   \n",
    "                    break\n",
    "                else:\n",
    "                    pass\n",
    "            except:\n",
    "                pass\n",
    "       # print(i)\n",
    "        if num>0:\n",
    "            time.sleep(random.randint(1,5))\n",
    "            #localizza il tasto \"scopri di più\", fai scroll e poi clicca\n",
    "            more_info=driver.find_element_by_css_selector(f\"#component_{i} > div:nth-child(3) > div > div:nth-child(3) > div > div.hotels-review-list-parts-SingleReview__mainCol--2XgHm > div.hotels-review-list-parts-ExpandableReview__containerStyles--2IVer > div.common-text-ReadMore__readMore--3Iu8c.common-text-ReadMore__variantDefault--p_yFt.common-text-ReadMore__collapsed--3N9Wp > div.common-text-ReadMore__ctaWrapperNewline--1iDIz > div > div > span.hotels-review-list-parts-ExpandableReview__cta--3U9OU\")\n",
    "            location = more_info.location[\"y\"] - 100\n",
    "            driver.execute_script(\"window.scrollTo(0, %d);\" %location)\n",
    "            more_info.click()\n",
    "        doc = bs4.BeautifulSoup(driver.page_source, 'html.parser') #recupera html ed estrai le info\n",
    "\n",
    "#crea dataframe degli hotel        \n",
    "        nome_hotel= doc.find(id= \"HEADING\").text\n",
    "        indirizzo=doc.find_all('div', class_='public-business-listing-ContactInfo__location--1jP2j')\n",
    "        indirizzo_hotel=indirizzo[0].text\n",
    "        df_hotel_list.loc[len(df_hotel_list.index), 'hotel']=nome_hotel #aggiungi data scraping al dataframe        \n",
    "        df_hotel_list.loc[len(df_hotel_list.index)-1, 'indirizzo']=indirizzo_hotel #aggiungi data scraping al dataframe\n",
    "        df_hotel_list.loc[len(df_hotel_list.index)-1, 'dataIns']=data_scraping #aggiungi url al dataframe        \n",
    "      \n",
    "        contenitore_rating= doc.select(\"div.hotels-review-list-parts-RatingLine__bubbles--1oCI4\")\n",
    "        contenitore= doc.select(\"div.hotels-review-list-parts-SingleReview__reviewContainer--d54T4>div.hotels-review-list-parts-SingleReview__mainCol--2XgHm div.hotels-review-list-parts-ExpandableReview__containerStyles--2IVer q.hotels-review-list-parts-ExpandableReview__reviewText--3oMkH\")\n",
    "        contenitore_user= doc.select(\"div.hotels-review-list-parts-ReviewCardHeader__padding--R2JnR div.social-member-event-MemberEventOnObjectBlock__event_type--3njyv>span a\")\n",
    "        review=0\n",
    " #crea dataframe dei commenti           \n",
    "        for i in range(0,len(contenitore)):\n",
    "            nome_user= contenitore_user[i].text\n",
    "            df_review_list.loc[len(df_review_list.index), 'utente']=nome_user #aggiungi utente al dataframe\n",
    "            review=contenitore[i].text\n",
    "            df_review_list.loc[len(df_review_list.index)-1, 'commento']=review #aggiungi il commento al dataframe   \n",
    "            df_review_list.loc[len(df_review_list.index)-1, 'hotel']=nome_hotel #aggiungi nome hotel al dataframe  \n",
    "            df_review_list.loc[len(df_review_list.index)-1, 'dataIns']=data_scraping #aggiungi data scraping al dataframe     \n",
    "            rating=contenitore_rating[i].find(\"span\")\n",
    "            rating=str(rating).strip(\"\"\"<span class=\"ui_bubble_rating bubble_\"\"\").strip(\"\"\"0\"></span>\"\"\").strip() + \" stelle\"\n",
    "            df_review_list.loc[len(df_review_list.index)-1, 'rating']=rating #aggiungi rating al dataframe     "
   ]
  },
  {
   "cell_type": "code",
   "execution_count": null,
   "metadata": {},
   "outputs": [],
   "source": [
    "#esporta il datframe in formato csv\n",
    "PandasToCsv('C:/Users/privi/OneDrive/Desktop/TripAdvisor', df_review_list, 'review')\n",
    "PandasToCsv('C:/Users/privi/OneDrive/Desktop/TripAdvisor', df_hotel_list, 'hotel')"
   ]
  },
  {
   "cell_type": "markdown",
   "metadata": {},
   "source": [
    "-------------------------------------------------------------"
   ]
  },
  {
   "cell_type": "markdown",
   "metadata": {},
   "source": [
    "# Geolocation of hotel"
   ]
  },
  {
   "cell_type": "code",
   "execution_count": null,
   "metadata": {},
   "outputs": [],
   "source": [
    "hotel_list = csvToPandas('C:/Users/privi/OneDrive/Desktop/TripAdvisor/scraped_file/05072019', \"hotel_2_cleaned\")"
   ]
  },
  {
   "cell_type": "code",
   "execution_count": 58,
   "metadata": {},
   "outputs": [],
   "source": [
    "hotel_list = df_hotel_list"
   ]
  },
  {
   "cell_type": "code",
   "execution_count": 59,
   "metadata": {},
   "outputs": [],
   "source": [
    "import mapbox\n",
    "geocoder = mapbox.Geocoder(access_token='pk.eyJ1IjoibWFzdGVybWFzdGVyIiwiYSI6ImNqeHJkYWtzYzA3cjEzbW41ZGkzb2FoY2cifQ.7PqgLRV9hZGl9EKqkShKaA')\n",
    "\n",
    "for i in range(0,len(hotel_list)):\n",
    "    try:   \n",
    "        response = geocoder.forward(str(hotel_list['indirizzo'][i]))\n",
    "        for k in range(0,len(response.json()['features'][0]['context'])):\n",
    "            if 'region' in response.json()['features'][0]['context'][k]['id']:\n",
    "                #hotel_list.loc[i,'region_code']=response.json()['features'][0]['context'][k]['short_code'][3:]\n",
    "                hotel_list.loc[i,'province']=response.json()['features'][0]['context'][k]['text']      \n",
    "        \n",
    "        for k in range(0,len(response.json()['features'][0]['context'])):\n",
    "            if 'place' in response.json()['features'][0]['context'][k]['id']:\n",
    "                hotel_list.loc[i,'città']=response.json()['features'][0]['context'][k]['text']         \n",
    "      \n",
    "        for k in range(0,len(response.json()['features'][0]['context'])):\n",
    "                if 'country' in response.json()['features'][0]['context'][k]['id']:\n",
    "                    hotel_list.loc[i,'nazione']=response.json()['features'][0]['context'][k]['text']             \n",
    "                    \n",
    "        hotel_list.loc[i,'lat']=response.json()['features'][0]['geometry']['coordinates'][1]\n",
    "        hotel_list.loc[i,'lng']=response.json()['features'][0]['geometry']['coordinates'][0]\n",
    "    except Exception as e:\n",
    "        print(e)\n",
    "        pass"
   ]
  },
  {
   "cell_type": "code",
   "execution_count": 61,
   "metadata": {},
   "outputs": [],
   "source": [
    "PandasToCsv('C:/Users/privi/OneDrive/Desktop/TripAdvisor', hotel_list, 'hotel')"
   ]
  },
  {
   "cell_type": "markdown",
   "metadata": {},
   "source": [
    "import geopy\n",
    "import requests\n",
    "from geopy.geocoders import MapBox\n",
    "geolocator=geopy.geocoders.OpenMapQuest(api_key='pk.eyJ1IjoibWFzdGVybWFzdGVyIiwiYSI6ImNqeHJkYWtzYzA3cjEzbW41ZGkzb2FoY2cifQ.7PqgLRV9hZGl9EKqkShKaA')\n",
    "\n",
    "location = requests.get('https://api.mapbox.com/geocoding/v5/mapbox.places/via%20Pietro%20Gaggia%Milano.json?access_token=pk.eyJ1IjoibWFzdGVybWFzdGVyIiwiYSI6ImNqeHJkYWtzYzA3cjEzbW41ZGkzb2FoY2cifQ.7PqgLRV9hZGl9EKqkShKaA')\n",
    "print(location.text)\n",
    "\n",
    "response = geolocator.forward('Chester, NJ')\n"
   ]
  },
  {
   "cell_type": "markdown",
   "metadata": {},
   "source": [
    "geolocator = Nominatim()\n",
    "for i in range(0,len(hotel_list)):\n",
    "    try:\n",
    "        location = geolocator.geocode(str(hotel_list['indirizzo'][i]), addressdetails=True)\n",
    "        if 'village' in location.raw['address']:\n",
    "            hotel_list.loc[i,'comune']=location.raw['address']['village']\n",
    "        elif 'town' in location.raw['address']:\n",
    "            hotel_list.loc[i,'comune']=location.raw['address']['town']\n",
    "        elif 'city' in location.raw['address']:\n",
    "              hotel_list.loc[i,'comune']=location.raw['address']['city']\n",
    "        hotel_list.loc[i,'regione']=location.raw['address']['state']\n",
    "        hotel_list.loc[i,'provincia']=location.raw['address']['county']\n",
    "        hotel_list.loc[i,'nazione']=location.raw['address']['country']\n",
    "        hotel_list.loc[i,'lat']=location.raw['lat']\n",
    "        hotel_list.loc[i,'lon']=location.raw['lon']\n",
    "    except Exception as e:\n",
    "        print(e)\n",
    "        pass"
   ]
  },
  {
   "cell_type": "markdown",
   "metadata": {},
   "source": [
    "# Retrive data from Mongo DB"
   ]
  },
  {
   "cell_type": "code",
   "execution_count": null,
   "metadata": {},
   "outputs": [],
   "source": [
    "client = pymongo.MongoClient(\"localhost\", 27017)\n",
    "db=client.tripadvisor\n",
    "\n",
    "df=db.reviews\n",
    "df=pd.DataFrame(list(df.find()))\n",
    "df"
   ]
  }
 ],
 "metadata": {
  "kernelspec": {
   "display_name": "Python 3",
   "language": "python",
   "name": "python3"
  },
  "language_info": {
   "codemirror_mode": {
    "name": "ipython",
    "version": 3
   },
   "file_extension": ".py",
   "mimetype": "text/x-python",
   "name": "python",
   "nbconvert_exporter": "python",
   "pygments_lexer": "ipython3",
   "version": "3.7.3"
  }
 },
 "nbformat": 4,
 "nbformat_minor": 2
}
