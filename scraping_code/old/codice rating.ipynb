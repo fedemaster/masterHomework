{
 "cells": [
  {
   "cell_type": "code",
   "execution_count": null,
   "metadata": {},
   "outputs": [],
   "source": [
    "contenitore_rating= doc.select(\"div.hotels-review-list-parts-RatingLine__bubbles--1oCI4\")\n",
    "len(contenitore_rating)\n",
    "for cont in contenitore_rating:\n",
    "        rating=cont.find(\"span\")\n",
    "        a= str(rating)\n",
    "        print(a.strip(\"\"\"<span class=\"ui_bubble_rating bubble_\"\"\").strip(\"\"\"0\"></span>\"\"\").strip(), \"stelle\")\n"
   ]
  }
 ],
 "metadata": {
  "kernelspec": {
   "display_name": "Python 3",
   "language": "python",
   "name": "python3"
  },
  "language_info": {
   "codemirror_mode": {
    "name": "ipython",
    "version": 3
   },
   "file_extension": ".py",
   "mimetype": "text/x-python",
   "name": "python",
   "nbconvert_exporter": "python",
   "pygments_lexer": "ipython3",
   "version": "3.6.7"
  }
 },
 "nbformat": 4,
 "nbformat_minor": 2
}
