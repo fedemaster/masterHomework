{
 "cells": [
  {
   "cell_type": "code",
   "execution_count": null,
   "metadata": {
    "scrolled": false
   },
   "outputs": [],
   "source": [
    "import requests\n",
    "import bs4\n",
    "import csv\n",
    "from tqdm import tqdm_notebook as tqdm\n",
    "import json\n",
    "import re\n",
    "import pprint\n",
    "import pandas as pd\n",
    "import time\n",
    "from selenium import webdriver\n",
    "from selenium.common.exceptions import NoSuchElementException, WebDriverException\n",
    "\n",
    "col_names =  ['utente', 'commento', 'hotel']\n",
    "review_list  = pd.DataFrame(columns = col_names)\n",
    "driver = webdriver.Chrome(executable_path='C:/Users/privi/Downloads/chromedriver')\n",
    "num=0\n",
    "for num in range (0,20,5):\n",
    "    driver.get(f\"https://www.tripadvisor.it/Hotel_Review-g187849-d7377756-Reviews-or{num}-B_B_Hotel_Milano_Cenisio_Garibaldi-Milan_Lombardy.html#REVIEWS\\n\")\n",
    "    hotel=f'https://www.tripadvisor.it/Hotel_Review-g187849-d7377756-Reviews-or{num}-B_B_Hotel_Milano_Cenisio_Garibaldi-Milan_Lombardy.html#REVIEWS\\n'\n",
    "    doc = bs4.BeautifulSoup(driver.page_source, 'html.parser')\n",
    "    i=0\n",
    "    for i in range(4,35):\n",
    "        try:\n",
    "            x=len(doc.find(id=(f\"component_{i}\")).find_all('span', class_=\"hotels-review-list-parts-ExpandableReview__cta--3U9OU\"))\n",
    "            if x >4:   \n",
    "                break\n",
    "            else:\n",
    "                pass\n",
    "        except:\n",
    "            pass\n",
    "    print(i)\n",
    "    if num>0:\n",
    "        time.sleep(5)\n",
    "        driver.find_element_by_css_selector(f\"#component_{i} > div:nth-child(3) > div > div:nth-child(3) > div > div.hotels-review-list-parts-SingleReview__mainCol--2XgHm > div.hotels-review-list-parts-ExpandableReview__containerStyles--2IVer > div.common-text-ReadMore__readMore--3Iu8c.common-text-ReadMore__variantDefault--p_yFt.common-text-ReadMore__collapsed--3N9Wp > div.common-text-ReadMore__ctaWrapperNewline--1iDIz > div > div > span.hotels-review-list-parts-ExpandableReview__cta--3U9OU\").click()\n",
    "    doc = bs4.BeautifulSoup(driver.page_source, 'html.parser')\n",
    "    contenitore= doc.select(\"div.hotels-review-list-parts-SingleReview__reviewContainer--d54T4>div.hotels-review-list-parts-SingleReview__mainCol--2XgHm div.hotels-review-list-parts-ExpandableReview__containerStyles--2IVer q.hotels-review-list-parts-ExpandableReview__reviewText--3oMkH\")\n",
    "    for cont in contenitore:\n",
    "        a=cont.text\n",
    "        print(a,\"\\n\\n\")  "
   ]
  },
  {
   "cell_type": "code",
   "execution_count": null,
   "metadata": {},
   "outputs": [],
   "source": [
    "col_names =  ['utente', 'commento', 'hotel']\n",
    "review_list  = pd.DataFrame(columns = col_names)\n",
    "review_list.append({'utente': ..., 'commento': a, 'hotel': ...,})"
   ]
  },
  {
   "cell_type": "code",
   "execution_count": null,
   "metadata": {},
   "outputs": [],
   "source": [
    "doc.find(id=re.compile(f\"component_29\")).find_all('span', class_=\"hotels-review-list-parts-ExpandableReview__cta--3U9OU\")"
   ]
  },
  {
   "cell_type": "code",
   "execution_count": null,
   "metadata": {},
   "outputs": [],
   "source": [
    "x=len(doc.find(id=(f\"component_{str(29)}\")).find_all('span', class_=\"hotels-review-list-parts-ExpandableReview__cta--3U9OU\"))"
   ]
  },
  {
   "cell_type": "code",
   "execution_count": null,
   "metadata": {},
   "outputs": [],
   "source": [
    "for i in range(4,35):\n",
    "    try:\n",
    "        x=len(doc.find(id=(f\"component_{i}\")).find_all('span', class_=\"hotels-review-list-parts-ExpandableReview__cta--3U9OU\"))\n",
    "        if x >4:   \n",
    "            break\n",
    "        else:\n",
    "            pass\n",
    "    except:\n",
    "        pass\n",
    "print(i)"
   ]
  },
  {
   "cell_type": "code",
   "execution_count": null,
   "metadata": {},
   "outputs": [],
   "source": [
    "driver.find_element_by_css_selector(f\"#component_({num}) > div:nth-child(3) > div > div:nth-child(3) > div > div.hotels-review-list-parts-SingleReview__mainCol--2XgHm > div.hotels-review-list-parts-ExpandableReview__containerStyles--2IVer > div.common-text-ReadMore__readMore--3Iu8c.common-text-ReadMore__variantDefault--p_yFt.common-text-ReadMore__collapsed--3N9Wp > div.common-text-ReadMore__ctaWrapperNewline--1iDIz > div > div > span.hotels-review-list-parts-ExpandableReview__cta--3U9OU\").click()"
   ]
  },
  {
   "cell_type": "code",
   "execution_count": null,
   "metadata": {},
   "outputs": [],
   "source": [
    "import time\n",
    "\n",
    "def keep_clicking_show_more():\n",
    "    \"\"\"Loop till show_more doesn't have anything to load.\"\"\"\n",
    "    while True:\n",
    "        try:\n",
    "            driver.find_element_by_link_text('Scopri di più').click()\n",
    "\n",
    "            # Wait till the container of the recipes gets loaded \n",
    "            # after load more is clicked.\n",
    "            time.sleep(5)\n",
    "\n",
    "            recipe_container = driver.find_element_by_id(\"recipeListing\")\n",
    "            if 'No Record Found' in recipe_container.text:\n",
    "                break\n",
    "        except (NoSuchElementException, WebDriverException) as e:\n",
    "            break"
   ]
  },
  {
   "cell_type": "code",
   "execution_count": null,
   "metadata": {},
   "outputs": [],
   "source": [
    "from selenium.webdriver.common.action_chains import ActionChains\n",
    "\n",
    "link = driver.find_element_by_link_text('Load More Arguments')\n",
    "ActionChains(browser).move_to_element(link).perform()\n",
    "link.click()"
   ]
  }
 ],
 "metadata": {
  "kernelspec": {
   "display_name": "Python 3",
   "language": "python",
   "name": "python3"
  },
  "language_info": {
   "codemirror_mode": {
    "name": "ipython",
    "version": 3
   },
   "file_extension": ".py",
   "mimetype": "text/x-python",
   "name": "python",
   "nbconvert_exporter": "python",
   "pygments_lexer": "ipython3",
   "version": "3.7.3"
  }
 },
 "nbformat": 4,
 "nbformat_minor": 2
}
