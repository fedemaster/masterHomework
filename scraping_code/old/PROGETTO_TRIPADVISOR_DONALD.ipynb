{
 "cells": [
  {
   "cell_type": "code",
   "execution_count": 2,
   "metadata": {},
   "outputs": [
    {
     "name": "stdout",
     "output_type": "stream",
     "text": [
      "https://www.tripadvisor.it/Hotel_Review-g187849-d7377756-Reviews-or0-B_B_Hotel_Milano_Cenisio_Garibaldi-Milan_Lombardy.html#REVIEWS\n",
      "\n",
      "Nome Hotel:\t\t\t B&B Hotel Milano Cenisio Garibaldi \n",
      "\n",
      "\n",
      "nonostante avessi prenotato una singola mi hanno dato una matrimoniale molto luminosa e spaziosa, con un bagno pulito e accessoriato, serrature in camera con apertura a combinazione, molto comoda per quelli che devono dividere la camera. buona e varia la  colazione , magari la sala un po'  troppo piccola . parcheggio chiuso e sicuro sotto l'hotel , zona servita benissimo dai mezzi e dalla metro, intorno ci sono anche dei locali per mangiare o bere. ci tornerò! \n",
      "\n",
      "\n",
      "Ho soggiornato in questo Hotel in occasione di 2 partite alla stadio Meazza: hotel nuovo, camere con arredamento minimal ma pulitissime e con bagno confortevole Ciliegina sulla torta è la posizione: a 20 passi dalla fermata Cenisio della M5 (linea Lilla) che in meno di 10 minuti conduce allo stadio o dalla fermata del tram 10 per il Duomo \n",
      "\n",
      "\n",
      "Camera bella e spaziosa, pulitissima, personale alla reception cordialissimo e sempre disponibile, ottima posizione attaccato alla metro, parcheggio a disposizione fino alla sera del giorno del check out. \n",
      "\n",
      "\n",
      "Ubicazione eccellente, pulizia ,accoglienza , cortesia e disponibilita' il tutto per un ottimo rapporto qualita' prezzo. Sicuramente tutto quello che un hotel dovrebbe avere , piu' quattro che tre stelle. Consigliato sicuramente. \n",
      "\n",
      "\n",
      "La catena B&B Hotel è quasi sempre una sicurezza, hotel confortevoli e situati in zone strategiche delle città. Questo si trova in un complesso di torri occupate dalla Tom Tom dalla banca online Widiba (gruppo MPS) da un noto locale notturno milanese e da altre attività. Nelle immediate vicinanze troviamo un deposito ATM (tram) e il comando provinciale dei Vigili del Fuoco. Bene, ho dato queste indicazioni perché il punto forte dell'albergo è il silenzio. Nonostante la vicinanza con attività famose per i loro rumori (sferragliare, sirene e musica) nelle stanze (soprattutto dal 7° piano in poi) non sentirete neanche un rumore. Silenzio assoluto grazie ai doppi infissi. Le camere sono ampie e ben climatizzate (gestione digitale del clima facile e intuitiva). Pulizia impeccabile (anche sotto i lavelli) e personale gentilissimo, sia ai piani che alla reception. La colazione (dovete prenotare se volete farla) non è molto costosa considerando la media degli alberghi a Milano (dove non è inclusa nel pernottamento) sicuramente la troverete di vostro gradimento, infatti è  ricca di prodotti freschi e di qualità. La dotazione della camera è completa e i letti sono comodi (materassi e cuscini da 4/5 stelle). Comoda la terrazza e l'area esterna al piano terra prima dell'ingresso. Il parcheggio è a pagamento, ma essendo sotto l'edificio troverete l'auto fresca e al sicuro. In conclusione posso tranquillamente consigliare il B&B Hotel -Cenisio Garibaldi, sia come struttura ricettiva che posizione (tram e fermata metrò a una decina di passi).  \n",
      "\n",
      "\n",
      "https://www.tripadvisor.it/Hotel_Review-g187849-d7377756-Reviews-or5-B_B_Hotel_Milano_Cenisio_Garibaldi-Milan_Lombardy.html#REVIEWS\n",
      "\n",
      "Nome Hotel:\t\t\t B&B Hotel Milano Cenisio Garibaldi \n",
      "\n",
      "\n",
      "Ottima struttura. Pulizia camera perfetta. Stanza silenziosa. Personale molto cortese e snello nel servizio di Reception. Posizione ottima con Metro vicinissima. Prezzo un po' alto per solo pernottamento (forse alzato per concerto Vasco Rossi)  \n",
      "\n",
      "\n",
      "Siamo stati a fine maggio in questo albergo per un weekend a Milano. Comodo poiché vicinissimo alla fermata della metropolitana viola, pulito e personale gentile ad un prezzo OTTIMO. Ottima anche la possibilità di lasciare le camere non alle 10-11 come al solito ma alle 12!  Al \n",
      "\n",
      "\n",
      "Andiamo spesso a Milano e in questi anni abbiamo provato innumerevoli strutture. Sicuramente questa è una delle migliori in cui abbiamo alloggiato se non addirittura la migliore !!! Il suo punto forte è sicuramente l’ottima posizione. L’hotel infatti si trova in una buona zona \n",
      "\n",
      "\n",
      "Ottimo Htl qualità prezzo ! a due passi dalla linea della metro Lilla, e dalla fermata del tra, 14 con il quale si raggiunge in Duomo in 20 minuti , e il 12 . Personale alla reception molto gentili e professionali,  Le stanze sono pulitissime , e hanno tutto quello che serve ,  \n",
      "\n",
      "\n",
      "E' una struttura moderna, funzionale e facilmente raggiungibile, vicino alla stazione Garibaldi e alla linea metropolitana viola. Per un prezzo equo offre una colazione abbondante e ben assortita sia nel dolce che nel salato. Gli ambienti sono pultiti e funzionali, la vista \n",
      "\n",
      "\n",
      "https://www.tripadvisor.it/Hotel_Review-g187849-d7377756-Reviews-or10-B_B_Hotel_Milano_Cenisio_Garibaldi-Milan_Lombardy.html#REVIEWS\n",
      "\n",
      "Nome Hotel:\t\t\t B&B Hotel Milano Cenisio Garibaldi \n",
      "\n",
      "\n",
      "Struttura pulita e comoda alla metropolitana (linea lilla - fermata Cenisio). Doppi vetri alle finestre permettono un’ottima insonorizzazione, unica pecca le porte che hanno una chiusura davvero rumorosa. Se avete la fortuna di avere la camera al nono piano potrete godere anche \n",
      "\n",
      "\n",
      "Io e il mio compagno abbiamo soggiornato qui solo per una notte. La  stanza era pulitissima, letto comodo,  bagno di buone dimensioni e ben fornito, bella vista, personale cortese e colazione abbastanza varia.  \n",
      "\n",
      "\n",
      "Hotel pulito, ottima posizione anche per girare Milano a piedi, ottimo servizio di parcheggio sotterraneo a soli 8 euro cosa impossibile in zona. Personale educato e disponibile. Buono il checkout alle ore 12   \n",
      "\n",
      "\n",
      "Vengo saltuariamente a Milano per lavoro e soggiorno sempre in questa comoda struttura. Staff estremamente cortese e professionale, camera e bagno funzionali fermata della metro distante 1 minuto a piedi tutto a tariffe super convenienti. Una proposta di vero valore \n",
      "\n",
      "\n",
      "Struttura moderna vicino al cimitero monumentale, vicino alla metro e ben collegata con le principali attrazioni del centro di Milano, stanza semplice ma ben curata nella pulizia, colazione buona e abbondante, staff cordiale. Consigliato! \n",
      "\n",
      "\n",
      "https://www.tripadvisor.it/Hotel_Review-g187849-d7377756-Reviews-or15-B_B_Hotel_Milano_Cenisio_Garibaldi-Milan_Lombardy.html#REVIEWS\n",
      "\n",
      "Nome Hotel:\t\t\t B&B Hotel Milano Cenisio Garibaldi \n",
      "\n",
      "\n",
      "Buona la posizione, con qualche fermata di tram siamo in piazza Duomo. Camera a tre letti molto paziosa e silenziosa, al nono piano in angolo. Personale gentile e disponibile. Colazione buona e abbondante a buffet. \n",
      "\n",
      "\n",
      "Ormai quando vado a Milano, considero solo e soltanto questo hotel. Personale gentilissimo e disponibilissimo, camere moderne, pulite, non si sentono rumori! Colazione altrettanto ottima, ricca, e con ragazze davvero carine e gentili. Disponibile il parcheggio e metropolitana a \n",
      "\n",
      "\n",
      "Ho soggiornato per un Weekend in questa struttura.Sicuramente tra i PRO c'è la pulizia della camera e l'arredamento moderno e minimal. Tra i CONTRO c'è il fatto che i cuscini avevano uno spessore di 5 cm l'uno e neppure il doppio cuscino ha migliorato la situazione. La cameriera \n",
      "\n",
      "\n",
      "I titolari, Marco e Roberto, con la loro accoglienza hanno reso un soggiorno business una vacanza! Colazione al top, con menzione speciale per le focaccine salate!! Stanza pulitissima, letti comodi e Sky gratuito!!!!! Posizionato nel centro di Milano comodissimo per raggiungere \n",
      "\n",
      "\n",
      "tutto impeccabile e pulito molto accogliente molto bella la smart tv ...internet velocissimo . unica pecca i cuscini del letto quasi inesistenti minuscoli.....per il resto tutto ok molto accogliente e pulito  \n",
      "\n",
      "\n"
     ]
    }
   ],
   "source": [
    "import requests\n",
    "import bs4\n",
    "import csv\n",
    "from tqdm import tqdm_notebook as tqdm\n",
    "import json\n",
    "import pprint\n",
    "import pandas as pd\n",
    "for num in range (0,20,5):\n",
    "        hotel=f'https://www.tripadvisor.it/Hotel_Review-g187849-d7377756-Reviews-or{num}-B_B_Hotel_Milano_Cenisio_Garibaldi-Milan_Lombardy.html#REVIEWS\\n'\n",
    "        print(hotel)\n",
    "        risposta= requests.get(hotel)\n",
    "        doc=bs4.BeautifulSoup(risposta.text)\n",
    "        titolo= doc.find(id= \"HEADING\").text\n",
    "        print(\"Nome Hotel:\\t\\t\\t\",titolo,\"\\n\\n\")\n",
    "        contenitore= doc.select(\"div.hotels-review-list-parts-SingleReview__reviewContainer--d54T4>div.hotels-review-list-parts-SingleReview__mainCol--2XgHm div.hotels-review-list-parts-ExpandableReview__containerStyles--2IVer q.hotels-review-list-parts-ExpandableReview__reviewText--3oMkH\")\n",
    "        for cont in contenitore:\n",
    "            a=cont.text\n",
    "            a=a.replace('…', '')\n",
    "            print(a,\"\\n\\n\")\n",
    "            "
   ]
  },
  {
   "cell_type": "code",
   "execution_count": 5,
   "metadata": {},
   "outputs": [
    {
     "name": "stdout",
     "output_type": "stream",
     "text": [
      "5\n",
      "sivvina\n",
      "Eva.ama\n",
      "Lil B\n",
      "Sunshine17814476577\n",
      "Global65713090541\n"
     ]
    }
   ],
   "source": [
    "contenitore_user= doc.select(\"div.hotels-review-list-parts-ReviewCardHeader__padding--R2JnR div.social-member-event-MemberEventOnObjectBlock__event_type--3njyv>span a\")\n",
    "print(len(contenitore_user))\n",
    "for cont in contenitore_user:\n",
    "            nome_user= cont.text\n",
    "            print(nome_user)"
   ]
  },
  {
   "cell_type": "code",
   "execution_count": null,
   "metadata": {},
   "outputs": [],
   "source": []
  }
 ],
 "metadata": {
  "kernelspec": {
   "display_name": "Python 3",
   "language": "python",
   "name": "python3"
  },
  "language_info": {
   "codemirror_mode": {
    "name": "ipython",
    "version": 3
   },
   "file_extension": ".py",
   "mimetype": "text/x-python",
   "name": "python",
   "nbconvert_exporter": "python",
   "pygments_lexer": "ipython3",
   "version": "3.6.7"
  }
 },
 "nbformat": 4,
 "nbformat_minor": 2
}
