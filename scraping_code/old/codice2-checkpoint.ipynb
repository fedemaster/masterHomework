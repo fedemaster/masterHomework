{
 "cells": [
  {
   "cell_type": "markdown",
   "metadata": {},
   "source": [
    "# TripAdvisor Scraping"
   ]
  },
  {
   "cell_type": "markdown",
   "metadata": {},
   "source": [
    "Import of libraries:"
   ]
  },
  {
   "cell_type": "code",
   "execution_count": 34,
   "metadata": {},
   "outputs": [],
   "source": [
    "import requests\n",
    "import bs4\n",
    "import csv\n",
    "from tqdm import tqdm_notebook as tqdm\n",
    "import json\n",
    "import re\n",
    "import pprint\n",
    "import pandas as pd\n",
    "import time\n",
    "from selenium import webdriver\n",
    "from selenium.common.exceptions import NoSuchElementException, WebDriverException\n",
    "import random\n",
    "from datetime import date"
   ]
  },
  {
   "cell_type": "markdown",
   "metadata": {},
   "source": [
    "Export and Import of data with csv format:"
   ]
  },
  {
   "cell_type": "code",
   "execution_count": 35,
   "metadata": {},
   "outputs": [],
   "source": [
    "def PandasToCsv(folder, pandasObject):\n",
    "        pandasObject.to_csv(folder+'/TripAdvisorOutput_'+str(date.today())+'.csv',mode='a',sep=',' , header=True)"
   ]
  },
  {
   "cell_type": "code",
   "execution_count": 36,
   "metadata": {},
   "outputs": [],
   "source": [
    "def csvToPandas(folder, filename):\n",
    "    return pd.read_csv(folder+'/'+filename+'.csv',sep=',', header=None)"
   ]
  },
  {
   "cell_type": "markdown",
   "metadata": {},
   "source": [
    "Print html:"
   ]
  },
  {
   "cell_type": "code",
   "execution_count": 37,
   "metadata": {},
   "outputs": [],
   "source": [
    "def print_html(obj):\n",
    "    if obj is None:\n",
    "        print (\"--- Oggetto vuoto ---\")\n",
    "    else:\n",
    "        print(\"--- Oggetto Popolato ---\\n\")\n",
    "        print(\"{0}\".format(obj))"
   ]
  },
  {
   "cell_type": "markdown",
   "metadata": {},
   "source": [
    "Set the Selenium driver:"
   ]
  },
  {
   "cell_type": "code",
   "execution_count": 38,
   "metadata": {},
   "outputs": [],
   "source": [
    "def initDriver():\n",
    "    try:\n",
    "        return webdriver.Chrome() \n",
    "    except Exception as e:\n",
    "        print(\"Eccezione : {0}\".format(e))"
   ]
  },
  {
   "cell_type": "markdown",
   "metadata": {},
   "source": [
    "Get the url by Selenium driver:"
   ]
  },
  {
   "cell_type": "code",
   "execution_count": 39,
   "metadata": {},
   "outputs": [],
   "source": [
    "def getDriver(url):\n",
    "    return driver.get(url)"
   ]
  },
  {
   "cell_type": "markdown",
   "metadata": {},
   "source": [
    "#### Main code of scraping:"
   ]
  },
  {
   "cell_type": "code",
   "execution_count": 40,
   "metadata": {
    "scrolled": false
   },
   "outputs": [],
   "source": [
    "url_list =csvToPandas('C:/Users/privi/OneDrive/Desktop/TripAdvisor', 'hotel_list') #carica csv con i link degli hotel\n",
    "col_names =  ['utente', 'commento', 'hotel','dataIns','url'] #crea le colonne del dataframe per la raccolta dei dati\n",
    "review_list  = pd.DataFrame(columns = col_names) #crea dataframe per la raccolta dei dati\n",
    "driver = initDriver()\n",
    "\n",
    "for hotel in url_list[0]:\n",
    "    for num in range (0,20,5):\n",
    "        getDriver(str(hotel).split(\"Reviews-\")[0]+'Reviews-or'+f'{num}-'+str(hotel).split(\"Reviews-\")[1])\n",
    "        driver.maximize_window()\n",
    "        doc = bs4.BeautifulSoup(driver.page_source, 'html.parser')\n",
    "        i=0\n",
    "        #trovo la componente che contiene il tasto \"scopri di più\"\n",
    "        for i in range(20,35):\n",
    "            try:\n",
    "                x=len(doc.find(id=(f\"component_{i}\")).find_all('span', class_=\"hotels-review-list-parts-ExpandableReview__cta--3U9OU\"))\n",
    "                if x >4:   \n",
    "                    break\n",
    "                else:\n",
    "                    pass\n",
    "            except:\n",
    "                pass\n",
    "       # print(i)\n",
    "        if num>0:\n",
    "            time.sleep(random.randint(1,5))\n",
    "            #localizza il tasto \"scopri di più\", fai scroll e poi clicca\n",
    "            more_info=driver.find_element_by_css_selector(f\"#component_{i} > div:nth-child(3) > div > div:nth-child(3) > div > div.hotels-review-list-parts-SingleReview__mainCol--2XgHm > div.hotels-review-list-parts-ExpandableReview__containerStyles--2IVer > div.common-text-ReadMore__readMore--3Iu8c.common-text-ReadMore__variantDefault--p_yFt.common-text-ReadMore__collapsed--3N9Wp > div.common-text-ReadMore__ctaWrapperNewline--1iDIz > div > div > span.hotels-review-list-parts-ExpandableReview__cta--3U9OU\")\n",
    "            location = more_info.location[\"y\"] - 100\n",
    "            driver.execute_script(\"window.scrollTo(0, %d);\" %location)\n",
    "            more_info.click()\n",
    "        doc = bs4.BeautifulSoup(driver.page_source, 'html.parser') #recupera html ed estrai le info\n",
    "        contenitore= doc.select(\"div.hotels-review-list-parts-SingleReview__reviewContainer--d54T4>div.hotels-review-list-parts-SingleReview__mainCol--2XgHm div.hotels-review-list-parts-ExpandableReview__containerStyles--2IVer q.hotels-review-list-parts-ExpandableReview__reviewText--3oMkH\")\n",
    "        #utente=doc.select('div.hotels-review-list-parts-SingleReview__reviewContainer--d54T4>div.hotels-review-list-parts-SingleReview__mainCol--2XgHm > div.hotels-review-list-parts-ExpandableReview__containerStyles--2IVer > div.common-text-ReadMore__readMore--3Iu8c.common-text-ReadMore__variantDefault--p_yFt > div.common-text-ReadMore__content--2X4LR > q > span')\n",
    "        review=0\n",
    "        for cont in contenitore:\n",
    "            review=cont.text\n",
    "            #print(review,\"\\n\\n\") \n",
    "            review_list.loc[len(review_list.index), 'commento']=review #aggiungi il commento l dataframe"
   ]
  },
  {
   "cell_type": "code",
   "execution_count": 30,
   "metadata": {},
   "outputs": [],
   "source": [
    "#esporta il datframe in formato csv\n",
    "PandasToCsv('C:/Users/privi/OneDrive/Desktop/TripAdvisor', review_list)"
   ]
  }
 ],
 "metadata": {
  "kernelspec": {
   "display_name": "Python 3",
   "language": "python",
   "name": "python3"
  },
  "language_info": {
   "codemirror_mode": {
    "name": "ipython",
    "version": 3
   },
   "file_extension": ".py",
   "mimetype": "text/x-python",
   "name": "python",
   "nbconvert_exporter": "python",
   "pygments_lexer": "ipython3",
   "version": "3.7.3"
  }
 },
 "nbformat": 4,
 "nbformat_minor": 2
}
