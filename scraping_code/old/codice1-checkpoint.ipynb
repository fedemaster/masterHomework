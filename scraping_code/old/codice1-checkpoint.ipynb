{
 "cells": [
  {
   "cell_type": "code",
   "execution_count": 34,
   "metadata": {
    "scrolled": false
   },
   "outputs": [
    {
     "name": "stdout",
     "output_type": "stream",
     "text": [
      "Eccezione : Message: 'chromedriver' executable needs to be in PATH. Please see https://sites.google.com/a/chromium.org/chromedriver/home\n",
      "\n"
     ]
    },
    {
     "ename": "AttributeError",
     "evalue": "'NoneType' object has no attribute 'get'",
     "output_type": "error",
     "traceback": [
      "\u001b[1;31m---------------------------------------------------------------------------\u001b[0m",
      "\u001b[1;31mAttributeError\u001b[0m                            Traceback (most recent call last)",
      "\u001b[1;32m<ipython-input-34-c2c71ec7096d>\u001b[0m in \u001b[0;36m<module>\u001b[1;34m()\u001b[0m\n\u001b[0;32m     34\u001b[0m \u001b[0mnum\u001b[0m\u001b[1;33m=\u001b[0m\u001b[1;36m0\u001b[0m\u001b[1;31m#weird\u001b[0m\u001b[1;33m\u001b[0m\u001b[0m\n\u001b[0;32m     35\u001b[0m \u001b[1;32mfor\u001b[0m \u001b[0mnum\u001b[0m \u001b[1;32min\u001b[0m \u001b[0mrange\u001b[0m \u001b[1;33m(\u001b[0m\u001b[1;36m0\u001b[0m\u001b[1;33m,\u001b[0m\u001b[1;36m20\u001b[0m\u001b[1;33m,\u001b[0m\u001b[1;36m5\u001b[0m\u001b[1;33m)\u001b[0m\u001b[1;33m:\u001b[0m\u001b[1;33m\u001b[0m\u001b[0m\n\u001b[1;32m---> 36\u001b[1;33m     \u001b[0mdriv\u001b[0m\u001b[1;33m=\u001b[0m\u001b[0mgetDriver\u001b[0m\u001b[1;33m(\u001b[0m\u001b[0mdriver\u001b[0m\u001b[1;33m,\u001b[0m\u001b[1;34m\"https://www.tripadvisor.it/Hotel_Review-g187849-d7377756-Reviews-or{num}-B_B_Hotel_Milano_Cenisio_Garibaldi-Milan_Lombardy.html#REVIEWS\\n\"\u001b[0m\u001b[1;33m)\u001b[0m\u001b[1;33m\u001b[0m\u001b[0m\n\u001b[0m\u001b[0;32m     37\u001b[0m     \u001b[0mhotel\u001b[0m\u001b[1;33m=\u001b[0m\u001b[1;34mf'https://www.tripadvisor.it/Hotel_Review-g187849-d7377756-Reviews-or{num}-B_B_Hotel_Milano_Cenisio_Garibaldi-Milan_Lombardy.html#REVIEWS\\n'\u001b[0m\u001b[1;33m\u001b[0m\u001b[0m\n\u001b[0;32m     38\u001b[0m     \u001b[0mdoc\u001b[0m \u001b[1;33m=\u001b[0m \u001b[0mbs4\u001b[0m\u001b[1;33m.\u001b[0m\u001b[0mBeautifulSoup\u001b[0m\u001b[1;33m(\u001b[0m\u001b[0mdriver\u001b[0m\u001b[1;33m.\u001b[0m\u001b[0mpage_source\u001b[0m\u001b[1;33m,\u001b[0m \u001b[1;34m'html.parser'\u001b[0m\u001b[1;33m)\u001b[0m\u001b[1;33m\u001b[0m\u001b[0m\n",
      "\u001b[1;32m<ipython-input-34-c2c71ec7096d>\u001b[0m in \u001b[0;36mgetDriver\u001b[1;34m(driver, url)\u001b[0m\n\u001b[0;32m     25\u001b[0m \u001b[1;33m\u001b[0m\u001b[0m\n\u001b[0;32m     26\u001b[0m \u001b[1;32mdef\u001b[0m \u001b[0mgetDriver\u001b[0m\u001b[1;33m(\u001b[0m\u001b[0mdriver\u001b[0m\u001b[1;33m,\u001b[0m\u001b[0murl\u001b[0m\u001b[1;33m)\u001b[0m\u001b[1;33m:\u001b[0m\u001b[1;33m\u001b[0m\u001b[0m\n\u001b[1;32m---> 27\u001b[1;33m     \u001b[1;32mreturn\u001b[0m \u001b[0mdriver\u001b[0m\u001b[1;33m.\u001b[0m\u001b[0mget\u001b[0m\u001b[1;33m(\u001b[0m\u001b[1;34mf\"{0}\"\u001b[0m\u001b[1;33m.\u001b[0m\u001b[0mformat\u001b[0m\u001b[1;33m(\u001b[0m\u001b[0murl\u001b[0m\u001b[1;33m)\u001b[0m\u001b[1;33m)\u001b[0m\u001b[1;33m\u001b[0m\u001b[0m\n\u001b[0m\u001b[0;32m     28\u001b[0m \u001b[1;33m\u001b[0m\u001b[0m\n\u001b[0;32m     29\u001b[0m \u001b[0murl_list\u001b[0m \u001b[1;33m=\u001b[0m\u001b[1;33m[\u001b[0m\u001b[1;33m]\u001b[0m\u001b[1;33m\u001b[0m\u001b[0m\n",
      "\u001b[1;31mAttributeError\u001b[0m: 'NoneType' object has no attribute 'get'"
     ]
    }
   ],
   "source": [
    "import requests\n",
    "import bs4\n",
    "import csv\n",
    "from tqdm import tqdm_notebook as tqdm\n",
    "import json\n",
    "import re\n",
    "import pprint\n",
    "import pandas as pd\n",
    "import time\n",
    "from selenium import webdriver\n",
    "from selenium.common.exceptions import NoSuchElementException, WebDriverException\n",
    "\n",
    "def PandasToCsv(pandasObject):\n",
    "        pandasObject.to_csv(\"csv/output.csv\",mode='a',sep=',' header=True)\n",
    "def csvToPandas():\n",
    "    return pd.read_csv(\"csv/output.csv\",sep=',')\n",
    "def print_html(obj):\n",
    "    if obj is None:\n",
    "        print (\"--- Oggetto vuoto ---\")\n",
    "    else:\n",
    "        print(\"--- Oggetto Popolato ---\\n\")\n",
    "        print(\"{0}\".format(obj))\n",
    "\n",
    "def initDriver():\n",
    "    try:\n",
    "        return webdriver.Chrome() \n",
    "    except Exception as e:\n",
    "        print(\"Eccezione : {0}\".format(e))\n",
    "        \n",
    "def getDriver(driver,url):\n",
    "    return driver.get(f\"{0}\".format(url))\n",
    "    \n",
    "url_list =[]    \n",
    "col_names =  ['utente', 'commento', 'hotel','dataIns','url']\n",
    "review_list  = pd.DataFrame(columns = col_names)\n",
    "driver = initDriver()\n",
    "#non riesco a fare andare il driver, scrivimi in quale variabili ottieni il nome dell'utente, commento e hotel\n",
    "# che non ci sto capendo nulla in questi spaghetti....\n",
    "num=0#weird\n",
    "for num in range (0,20,5):\n",
    "    driv=getDriver(driver,\"https://www.tripadvisor.it/Hotel_Review-g187849-d7377756-Reviews-or{num}-B_B_Hotel_Milano_Cenisio_Garibaldi-Milan_Lombardy.html#REVIEWS\\n\")\n",
    "    hotel=f'https://www.tripadvisor.it/Hotel_Review-g187849-d7377756-Reviews-or{num}-B_B_Hotel_Milano_Cenisio_Garibaldi-Milan_Lombardy.html#REVIEWS\\n'\n",
    "    doc = bs4.BeautifulSoup(driver.page_source, 'html.parser')\n",
    "    i=0\n",
    "    #trovo la componente\n",
    "    for i in range(4,35):\n",
    "        try:\n",
    "            x=len(doc.find(id=(f\"component_{i}\")).find_all('span', class_=\"hotels-review-list-parts-ExpandableReview__cta--3U9OU\"))\n",
    "            if x >4:   \n",
    "                break\n",
    "            else:\n",
    "                pass\n",
    "        except:\n",
    "            pass\n",
    "    print(i)\n",
    "    if num>0:\n",
    "        time.sleep(5)\n",
    "        driver.find_element_by_css_selector(f\"#component_{i} > div:nth-child(3) > div > div:nth-child(3) > div > div.hotels-review-list-parts-SingleReview__mainCol--2XgHm > div.hotels-review-list-parts-ExpandableReview__containerStyles--2IVer > div.common-text-ReadMore__readMore--3Iu8c.common-text-ReadMore__variantDefault--p_yFt.common-text-ReadMore__collapsed--3N9Wp > div.common-text-ReadMore__ctaWrapperNewline--1iDIz > div > div > span.hotels-review-list-parts-ExpandableReview__cta--3U9OU\").click()\n",
    "    doc = bs4.BeautifulSoup(driver.page_source, 'html.parser')\n",
    "    contenitore= doc.select(\"div.hotels-review-list-parts-SingleReview__reviewContainer--d54T4>div.hotels-review-list-parts-SingleReview__mainCol--2XgHm div.hotels-review-list-parts-ExpandableReview__containerStyles--2IVer q.hotels-review-list-parts-ExpandableReview__reviewText--3oMkH\")\n",
    "    a=0\n",
    "    for cont in contenitore:\n",
    "        a=cont.text\n",
    "        print(a,\"\\n\\n\")  "
   ]
  },
  {
   "cell_type": "code",
   "execution_count": 25,
   "metadata": {},
   "outputs": [
    {
     "ename": "NameError",
     "evalue": "name 'a' is not defined",
     "output_type": "error",
     "traceback": [
      "\u001b[1;31m---------------------------------------------------------------------------\u001b[0m",
      "\u001b[1;31mNameError\u001b[0m                                 Traceback (most recent call last)",
      "\u001b[1;32m<ipython-input-25-1b50f01d363c>\u001b[0m in \u001b[0;36m<module>\u001b[1;34m()\u001b[0m\n\u001b[0;32m      1\u001b[0m \u001b[0mcol_names\u001b[0m \u001b[1;33m=\u001b[0m  \u001b[1;33m[\u001b[0m\u001b[1;34m'utente'\u001b[0m\u001b[1;33m,\u001b[0m \u001b[1;34m'commento'\u001b[0m\u001b[1;33m,\u001b[0m \u001b[1;34m'hotel'\u001b[0m\u001b[1;33m]\u001b[0m\u001b[1;33m\u001b[0m\u001b[0m\n\u001b[0;32m      2\u001b[0m \u001b[0mreview_list\u001b[0m  \u001b[1;33m=\u001b[0m \u001b[0mpd\u001b[0m\u001b[1;33m.\u001b[0m\u001b[0mDataFrame\u001b[0m\u001b[1;33m(\u001b[0m\u001b[0mcolumns\u001b[0m \u001b[1;33m=\u001b[0m \u001b[0mcol_names\u001b[0m\u001b[1;33m)\u001b[0m\u001b[1;33m\u001b[0m\u001b[0m\n\u001b[1;32m----> 3\u001b[1;33m \u001b[0mreview_list\u001b[0m\u001b[1;33m.\u001b[0m\u001b[0mappend\u001b[0m\u001b[1;33m(\u001b[0m\u001b[1;33m{\u001b[0m\u001b[1;34m'utente'\u001b[0m\u001b[1;33m:\u001b[0m \u001b[1;33m...\u001b[0m\u001b[1;33m,\u001b[0m \u001b[1;34m'commento'\u001b[0m\u001b[1;33m:\u001b[0m \u001b[0ma\u001b[0m\u001b[1;33m,\u001b[0m \u001b[1;34m'hotel'\u001b[0m\u001b[1;33m:\u001b[0m \u001b[1;33m...\u001b[0m\u001b[1;33m,\u001b[0m\u001b[1;33m}\u001b[0m\u001b[1;33m)\u001b[0m\u001b[1;33m\u001b[0m\u001b[0m\n\u001b[0m",
      "\u001b[1;31mNameError\u001b[0m: name 'a' is not defined"
     ]
    }
   ],
   "source": [
    "col_names =  ['utente', 'commento', 'hotel']\n",
    "review_list  = pd.DataFrame(columns = col_names)\n",
    "review_list.append({'utente': ..., 'commento': a, 'hotel': ...,})\n",
    "PandastoCsv(review_list)"
   ]
  },
  {
   "cell_type": "code",
   "execution_count": null,
   "metadata": {},
   "outputs": [],
   "source": []
  },
  {
   "cell_type": "code",
   "execution_count": 26,
   "metadata": {},
   "outputs": [
    {
     "ename": "NameError",
     "evalue": "name 'doc' is not defined",
     "output_type": "error",
     "traceback": [
      "\u001b[1;31m---------------------------------------------------------------------------\u001b[0m",
      "\u001b[1;31mNameError\u001b[0m                                 Traceback (most recent call last)",
      "\u001b[1;32m<ipython-input-26-3310c6cc7291>\u001b[0m in \u001b[0;36m<module>\u001b[1;34m()\u001b[0m\n\u001b[1;32m----> 1\u001b[1;33m \u001b[0mdoc\u001b[0m\u001b[1;33m.\u001b[0m\u001b[0mfind\u001b[0m\u001b[1;33m(\u001b[0m\u001b[0mid\u001b[0m\u001b[1;33m=\u001b[0m\u001b[0mre\u001b[0m\u001b[1;33m.\u001b[0m\u001b[0mcompile\u001b[0m\u001b[1;33m(\u001b[0m\u001b[1;34mf\"component_29\"\u001b[0m\u001b[1;33m)\u001b[0m\u001b[1;33m)\u001b[0m\u001b[1;33m.\u001b[0m\u001b[0mfind_all\u001b[0m\u001b[1;33m(\u001b[0m\u001b[1;34m'span'\u001b[0m\u001b[1;33m,\u001b[0m \u001b[0mclass_\u001b[0m\u001b[1;33m=\u001b[0m\u001b[1;34m\"hotels-review-list-parts-ExpandableReview__cta--3U9OU\"\u001b[0m\u001b[1;33m)\u001b[0m\u001b[1;33m\u001b[0m\u001b[0m\n\u001b[0m",
      "\u001b[1;31mNameError\u001b[0m: name 'doc' is not defined"
     ]
    }
   ],
   "source": [
    "doc.find(id=re.compile(f\"component_29\")).find_all('span', class_=\"hotels-review-list-parts-ExpandableReview__cta--3U9OU\")"
   ]
  },
  {
   "cell_type": "code",
   "execution_count": null,
   "metadata": {},
   "outputs": [],
   "source": [
    "x=len(doc.find(id=(f\"component_{str(29)}\")).find_all('span', class_=\"hotels-review-list-parts-ExpandableReview__cta--3U9OU\"))"
   ]
  },
  {
   "cell_type": "code",
   "execution_count": null,
   "metadata": {},
   "outputs": [],
   "source": [
    "for i in range(4,35):\n",
    "    try:\n",
    "        x=len(doc.find(id=(f\"component_{i}\")).find_all('span', class_=\"hotels-review-list-parts-ExpandableReview__cta--3U9OU\"))\n",
    "        if x >4:   \n",
    "            break\n",
    "        else:\n",
    "            pass\n",
    "    except:\n",
    "        pass\n",
    "print(i)"
   ]
  },
  {
   "cell_type": "code",
   "execution_count": null,
   "metadata": {},
   "outputs": [],
   "source": [
    "driver.find_element_by_css_selector(f\"#component_({num}) > div:nth-child(3) > div > div:nth-child(3) > div > div.hotels-review-list-parts-SingleReview__mainCol--2XgHm > div.hotels-review-list-parts-ExpandableReview__containerStyles--2IVer > div.common-text-ReadMore__readMore--3Iu8c.common-text-ReadMore__variantDefault--p_yFt.common-text-ReadMore__collapsed--3N9Wp > div.common-text-ReadMore__ctaWrapperNewline--1iDIz > div > div > span.hotels-review-list-parts-ExpandableReview__cta--3U9OU\").click()"
   ]
  },
  {
   "cell_type": "code",
   "execution_count": null,
   "metadata": {},
   "outputs": [],
   "source": [
    "import time\n",
    "\n",
    "def keep_clicking_show_more():\n",
    "    \"\"\"Loop till show_more doesn't have anything to load.\"\"\"\n",
    "    while True:\n",
    "        try:\n",
    "            driver.find_element_by_link_text('Scopri di più').click()\n",
    "\n",
    "            # Wait till the container of the recipes gets loaded \n",
    "            # after load more is clicked.\n",
    "            time.sleep(5)\n",
    "\n",
    "            recipe_container = driver.find_element_by_id(\"recipeListing\")\n",
    "            if 'No Record Found' in recipe_container.text:\n",
    "                break\n",
    "        except (NoSuchElementException, WebDriverException) as e:\n",
    "            break"
   ]
  },
  {
   "cell_type": "code",
   "execution_count": null,
   "metadata": {},
   "outputs": [],
   "source": [
    "from selenium.webdriver.common.action_chains import ActionChains\n",
    "\n",
    "link = driver.find_element_by_link_text('Load More Arguments')\n",
    "ActionChains(browser).move_to_element(link).perform()\n",
    "link.click()"
   ]
  },
  {
   "cell_type": "code",
   "execution_count": null,
   "metadata": {},
   "outputs": [],
   "source": []
  }
 ],
 "metadata": {
  "kernelspec": {
   "display_name": "Python 3",
   "language": "python",
   "name": "python3"
  },
  "language_info": {
   "codemirror_mode": {
    "name": "ipython",
    "version": 3
   },
   "file_extension": ".py",
   "mimetype": "text/x-python",
   "name": "python",
   "nbconvert_exporter": "python",
   "pygments_lexer": "ipython3",
   "version": "3.7.0"
  }
 },
 "nbformat": 4,
 "nbformat_minor": 2
}
